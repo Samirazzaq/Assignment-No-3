{
 "cells": [
  {
   "cell_type": "code",
   "execution_count": 8,
   "id": "b4c1d862",
   "metadata": {},
   "outputs": [
    {
     "name": "stdout",
     "output_type": "stream",
     "text": [
      "Write your Islamiyat Marks100\n",
      "Write your Pakstudies Marks85\n",
      "Write your Physics Marks95\n",
      "Write your English Marks86\n",
      "Write your Math Marks85\n",
      "Obtained Marks: 451\n",
      "Percentage: 90\n",
      "Grade A+\n"
     ]
    }
   ],
   "source": [
    "islamiyat=int(input(\"Write your Islamiyat Marks\"))\n",
    "pakstudies=int(input(\"Write your Pakstudies Marks\"))\n",
    "physics=int(input(\"Write your Physics Marks\"))\n",
    "english=int(input(\"Write your English Marks\"))\n",
    "math=int(input(\"Write your Math Marks\"))\n",
    "total=500\n",
    "obtained_marks=islamiyat+english+math+pakstudies+physics\n",
    "if obtained_marks <=500 and obtained_marks >=0:\n",
    "    print(\"Obtained Marks:\",obtained_marks)\n",
    "else:\n",
    "    print(\"Incorrect Marks\")\n",
    "percentage=obtained_marks/total*100\n",
    "percentage=round(percentage)\n",
    "if percentage <=100 and percentage >=0:\n",
    "    print(\"Percentage:\",percentage)\n",
    "else:\n",
    "    print(\"Incorrect Percentage\")\n",
    "if percentage <=100 and percentage >=80:\n",
    "    print(\"Grade A+\")\n",
    "elif percentage <=79 and percentage >=70:\n",
    "    print(\"Grade A\")\n",
    "elif percentage <=69 and percentage >=60:\n",
    "     print(\"Grade B\")\n",
    "elif percentage <=59 and percentage >=50:\n",
    "     print(\"Grade C\") \n",
    "elif percentage <=49 and percentage >=40:\n",
    "     print(\"Grade D\") \n",
    "elif percentage <=39 and percentage >=33:\n",
    "     print(\"Grade E\")\n",
    "elif percentage <=32 and percentage >=0:\n",
    "     print(\"Fail\")\n",
    "else:\n",
    "    print(\"Incorrect Percentage\")"
   ]
  },
  {
   "cell_type": "code",
   "execution_count": null,
   "id": "4883a629",
   "metadata": {},
   "outputs": [],
   "source": []
  },
  {
   "cell_type": "code",
   "execution_count": null,
   "id": "cb9cdc14",
   "metadata": {},
   "outputs": [],
   "source": []
  },
  {
   "cell_type": "code",
   "execution_count": null,
   "id": "a8eace24",
   "metadata": {},
   "outputs": [],
   "source": []
  }
 ],
 "metadata": {
  "kernelspec": {
   "display_name": "Python 3",
   "language": "python",
   "name": "python3"
  },
  "language_info": {
   "codemirror_mode": {
    "name": "ipython",
    "version": 3
   },
   "file_extension": ".py",
   "mimetype": "text/x-python",
   "name": "python",
   "nbconvert_exporter": "python",
   "pygments_lexer": "ipython3",
   "version": "3.8.8"
  }
 },
 "nbformat": 4,
 "nbformat_minor": 5
}
