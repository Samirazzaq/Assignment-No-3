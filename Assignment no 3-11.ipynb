{
 "cells": [
  {
   "cell_type": "code",
   "execution_count": 6,
   "id": "a6a83b11",
   "metadata": {},
   "outputs": [
    {
     "name": "stdout",
     "output_type": "stream",
     "text": [
      "Largest Number in the list is# 444\n"
     ]
    }
   ],
   "source": [
    "list=[12,44,55,66,77,33,444,55]\n",
    "largest_no=max(list)\n",
    "print(\"Largest Number in the list is#\",largest_no)"
   ]
  },
  {
   "cell_type": "code",
   "execution_count": 4,
   "id": "8467353b",
   "metadata": {},
   "outputs": [
    {
     "name": "stdout",
     "output_type": "stream",
     "text": [
      "Maximum Ball Size is_ 100\n"
     ]
    }
   ],
   "source": [
    "ball_size=[10,20,40,50,100]\n",
    "max_ball_size=max(ball_size)\n",
    "print(\"Maximum Ball Size is_\",max_ball_size)"
   ]
  },
  {
   "cell_type": "code",
   "execution_count": null,
   "id": "3b86b63e",
   "metadata": {},
   "outputs": [],
   "source": []
  }
 ],
 "metadata": {
  "kernelspec": {
   "display_name": "Python 3",
   "language": "python",
   "name": "python3"
  },
  "language_info": {
   "codemirror_mode": {
    "name": "ipython",
    "version": 3
   },
   "file_extension": ".py",
   "mimetype": "text/x-python",
   "name": "python",
   "nbconvert_exporter": "python",
   "pygments_lexer": "ipython3",
   "version": "3.8.8"
  }
 },
 "nbformat": 4,
 "nbformat_minor": 5
}
